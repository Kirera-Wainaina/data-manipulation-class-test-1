{
 "cells": [
  {
   "cell_type": "markdown",
   "id": "76856f45",
   "metadata": {},
   "source": [
    "# ITNPBD2, Representing and Manipulating Data\n",
    "## Class Test Spring 2024\n",
    "## Manipulating Basic Data Types in Python\n",
    "\n",
    "This 'class test' is to be carried out online, not in a classroom. Students must complete the test by typing code and comments into the cells in the notebook below.\n",
    "\n",
    "You must enter both code and comments, as requested in the questions. In class, you will have been taught to plan your code using comments first. If you cannot produce working code in some places, then make sure you include comments that outline the algorithm you would use. You will get marks for knowing how to approach the problem even if your code does not fully work.\n",
    "\n",
    "## Important: You must work alone\n",
    "You must complete the test on your own. Do not work or communicate with other people while taking the test. Colluding with others is a form of academic misconduct and can cause you to fail the module.\n",
    "\n",
    "## Important: You may NOT use any AI tool\n",
    "This test is designed to assess your ability to write code quickly without reference to tools such as artificial intelligence code generators. You must not use tools like GPT or Copilot. All the code must be written by you and you alone. Use of generative artificial intelligence in assessment is plagiarism, which is a form of academic misconduct and can cause you to fail the module.\n",
    "\n",
    "## Submission\n",
    "When you have completed your notebook, save it as xxxxx.ipynb where xxxxx is your student number. Then upload the file to the submission page on Canvas.\n",
    "\n",
    "## Marking Criteria\n",
    "There are not separate marks for each question. Your overall mark will be determined by the overall quality of both your **code** and **comments** with reference to the University common marking scheme. The table below describes the broad classes of attainment required for each grade band.\n",
    "\n",
    "|Grade|Requirement|\n",
    "|:---|:---|\n",
    "| Fail | You will fail if your code does not run or does not achieve even the basics of the task. You may also fail if you submit code without either comments or a text explanation of what the code does.|\n",
    "| Pass | To pass, you must submit sufficient working code to show that you have mastered the basics of the task, even if not everything works completely. You may also pass if the parts of your submission that do not work have sensible comments that outline the algorithm. |\n",
    "| Merit | For a merit, your code must be mostly correct, with only small problems or parts missing, and your comments must be useful rather than simply re-stating the code in English. Most choices for methods and structures should be explained and alternatives mentioned. |\n",
    "| Distinction | For a distinction, your code must be working, correct, and well commented and shows an appreciation of style, efficiency and reliability. All choices for methods and structures are concisely justified and alternatives are given well thought considerations. For a distinction, your work should be of professional quality.|\n",
    "\n",
    "The full details of the CMS can be found here\n",
    "\n",
    "https://www.stir.ac.uk/about/professional-services/student-academic-and-corporate-services/academic-registry/academic-policy-and-practice/quality-handbook/assessment-policy-and-procedure/appendix-2-postgraduate-common-marking-scheme/\n"
   ]
  },
  {
   "cell_type": "markdown",
   "id": "2a026b8b",
   "metadata": {},
   "source": [
    "Look at the small table of data below, showing five items from a shopping list\n",
    "\n",
    "| Aisle | Item | Price |\n",
    "|:--|:--|:--|\n",
    "|Bakery|Bread|150|\n",
    "|Dairy|Milk|90|\n",
    "|Dairy|Cheese|250|\n",
    "|Dairy|Yogurt|95|\n",
    "|Cans|Soup|120|\n",
    "\n",
    "If you wanted to represent these items in a data structure in Python, you would have a few choices:\n",
    "\n",
    " 1. As three separate lists: Aisle = Bakery, Dairy, Dairy, Dairy, Cans; Item = Bread, Milk, Cheese, Yogurt, Soup; Price = 150, 90, 250, 95, 120\n",
    " 2. As a list of dictionaries, each with keys in Aisle, Item, Price\n",
    " 3. As a list of tuples, for example with the first row as `(Bakery, Bread, 150)` \n",
    " \n",
    " With this in mind, answer the next questions by typing code or explanatory comments in the cells below as indicated"
   ]
  },
  {
   "cell_type": "markdown",
   "id": "3bb991cb",
   "metadata": {},
   "source": [
    "## Create the three lists from option 1 above\n",
    "Create three python lists called `Aisle`, `Item`, and `Price` as described in option 1 above. Comment on the data types of each entry in the lists and use code to illustrate the data types are as you describe."
   ]
  },
  {
   "cell_type": "code",
   "execution_count": 1,
   "id": "61f079bd",
   "metadata": {},
   "outputs": [],
   "source": [
    "# Put your code and comments here"
   ]
  },
  {
   "cell_type": "markdown",
   "id": "83808528",
   "metadata": {},
   "source": [
    "## Access Items in a List\n",
    "Using the list of items you have created, use indexes and slicing to access and print the following:\n",
    " * The first item in the list\n",
    " * The last item in the list (assume you don't know the length of the list)\n",
    " * The second, third and fourth items in the list, i.e. `['Milk', 'Cheese', 'Yogurt']`"
   ]
  },
  {
   "cell_type": "code",
   "execution_count": 2,
   "id": "462c530c",
   "metadata": {},
   "outputs": [],
   "source": [
    "# Put your code and comments here"
   ]
  },
  {
   "cell_type": "markdown",
   "id": "58ca7a23",
   "metadata": {},
   "source": [
    "## Calculation the total cost\n",
    "Write code in the cell below to calculate the total cost of this shopping list (add up all the numbers in the `price` list). Present two solutions: one where you calculate the total in a loop, and the other where you just use a built in Python function. Print the result you get from each of the two methods."
   ]
  },
  {
   "cell_type": "code",
   "execution_count": 3,
   "id": "63c3066a",
   "metadata": {},
   "outputs": [],
   "source": [
    "# Put your code and comments here"
   ]
  },
  {
   "cell_type": "markdown",
   "id": "d9694544",
   "metadata": {},
   "source": [
    "## Create the list of dictionaries in option 2\n",
    "Create a variable `shopping` that is a list of dictionaries that contains the data in the table shown in the introduction above. The code will be too long to be read on a single line so format it appropriately."
   ]
  },
  {
   "cell_type": "code",
   "execution_count": 4,
   "id": "64db7e59",
   "metadata": {},
   "outputs": [],
   "source": [
    "# Put your code and comments here"
   ]
  },
  {
   "cell_type": "markdown",
   "id": "0f329eb9",
   "metadata": {},
   "source": [
    "## Calculate the total spend per aisle\n",
    "Write code to calculate the total spend per aisle. You should present three totals, one each for Bakery, Dairy and Cans. Write comments in your code that describe how easy it would be to apply your code to new data that contains new aisles (for example, 'Frozen')."
   ]
  },
  {
   "cell_type": "code",
   "execution_count": 5,
   "id": "bf02ae75",
   "metadata": {},
   "outputs": [],
   "source": [
    "# Put your code and comments here"
   ]
  },
  {
   "cell_type": "markdown",
   "id": "e760e53b",
   "metadata": {},
   "source": [
    "## Use the three lists from question 1 above and create a list of tuples\n",
    "Question 1 above asks you to create three lists: `Aisle`, `Item`, and `Price`. You must now convert those three lists into a single list of tuples with the first row as `(Bakery, Bread, 150)`. There are a few ways in which you might do this, including a simple comprehension and a longer loop and append approach.\n",
    "\n",
    "Demonstrate more than one approach if you can and write comments that compare your different methods in terms of readability and speed."
   ]
  },
  {
   "cell_type": "code",
   "execution_count": 6,
   "id": "1883fc4b",
   "metadata": {},
   "outputs": [],
   "source": [
    "# Put your code and comments here"
   ]
  },
  {
   "cell_type": "markdown",
   "id": "6c4e3430",
   "metadata": {},
   "source": [
    "## Write a Function to Find the Highest Price in the Prices list\n",
    "Write a function that takes a list of numbers as its single argument and returns the highest number in that list.\n",
    "Add code to call the function and print the result that is returned.\n",
    "\n",
    "Show two possible solutions, one that uses the built in `max` function, and one that uses a loop and an `if` statement. "
   ]
  },
  {
   "cell_type": "code",
   "execution_count": 7,
   "id": "7899248d",
   "metadata": {},
   "outputs": [],
   "source": [
    "# Put your code and comments here"
   ]
  },
  {
   "cell_type": "markdown",
   "id": "c786eefa",
   "metadata": {},
   "source": [
    "## Call the Function you Just Wrote\n",
    "Call the function above using the list of prices from the first question. Print the returned result."
   ]
  },
  {
   "cell_type": "code",
   "execution_count": null,
   "id": "4bc48494",
   "metadata": {},
   "outputs": [],
   "source": [
    "# Put your code and comments here"
   ]
  }
 ],
 "metadata": {
  "kernelspec": {
   "display_name": "data-manipulation-class-assignment",
   "language": "python",
   "name": "data-manipulation-class-assignment"
  },
  "language_info": {
   "codemirror_mode": {
    "name": "ipython",
    "version": 3
   },
   "file_extension": ".py",
   "mimetype": "text/x-python",
   "name": "python",
   "nbconvert_exporter": "python",
   "pygments_lexer": "ipython3",
   "version": "3.10.12"
  }
 },
 "nbformat": 4,
 "nbformat_minor": 5
}
